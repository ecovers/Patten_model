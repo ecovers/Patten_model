{
 "cells": [
  {
   "cell_type": "code",
   "execution_count": 1,
   "id": "1afcbf3c",
   "metadata": {},
   "outputs": [],
   "source": [
    "# 임포트\n",
    "import cv2\n",
    "import matplotlib.pyplot as plt\n",
    "import os\n",
    "import random\n",
    "import numpy as np"
   ]
  },
  {
   "cell_type": "code",
   "execution_count": 2,
   "id": "ff52aa4e",
   "metadata": {},
   "outputs": [],
   "source": [
    "# 이미지 전처리 함수\n",
    "def preimg(img):\n",
    "    \n",
    "    h1,w1 = img.shape\n",
    "    \n",
    "    th1 = cv2.adaptiveThreshold(img, 255, cv2.ADAPTIVE_THRESH_GAUSSIAN_C, cv2.THRESH_BINARY, 9, 5)\n",
    "    \n",
    "    return 255-cv2.resize(th1, (int(w1*0.25),int(h1*0.25)), interpolation=cv2.INTER_CUBIC)"
   ]
  },
  {
   "cell_type": "code",
   "execution_count": 3,
   "id": "3164f4ea",
   "metadata": {
    "collapsed": true
   },
   "outputs": [
    {
     "ename": "AttributeError",
     "evalue": "'NoneType' object has no attribute 'shape'",
     "output_type": "error",
     "traceback": [
      "\u001b[1;31m---------------------------------------------------------------------------\u001b[0m",
      "\u001b[1;31mAttributeError\u001b[0m                            Traceback (most recent call last)",
      "Cell \u001b[1;32mIn[3], line 3\u001b[0m\n\u001b[0;32m      1\u001b[0m img \u001b[38;5;241m=\u001b[39m cv2\u001b[38;5;241m.\u001b[39mimread(\u001b[38;5;124m\"\u001b[39m\u001b[38;5;124mimage/test1.jpg\u001b[39m\u001b[38;5;124m\"\u001b[39m, cv2\u001b[38;5;241m.\u001b[39mIMREAD_GRAYSCALE)\n\u001b[1;32m----> 3\u001b[0m img2 \u001b[38;5;241m=\u001b[39m \u001b[43mpreimg\u001b[49m\u001b[43m(\u001b[49m\u001b[43mimg\u001b[49m\u001b[43m)\u001b[49m\n\u001b[0;32m      5\u001b[0m plt\u001b[38;5;241m.\u001b[39mtitle(\u001b[38;5;124m\"\u001b[39m\u001b[38;5;124mbasic image\u001b[39m\u001b[38;5;124m\"\u001b[39m)\n\u001b[0;32m      6\u001b[0m plt\u001b[38;5;241m.\u001b[39mimshow(img2, cmap \u001b[38;5;241m=\u001b[39m \u001b[38;5;124m\"\u001b[39m\u001b[38;5;124mgray\u001b[39m\u001b[38;5;124m\"\u001b[39m)\n",
      "Cell \u001b[1;32mIn[2], line 4\u001b[0m, in \u001b[0;36mpreimg\u001b[1;34m(img)\u001b[0m\n\u001b[0;32m      2\u001b[0m \u001b[38;5;28;01mdef\u001b[39;00m \u001b[38;5;21mpreimg\u001b[39m(img):\n\u001b[1;32m----> 4\u001b[0m     h1,w1 \u001b[38;5;241m=\u001b[39m \u001b[43mimg\u001b[49m\u001b[38;5;241;43m.\u001b[39;49m\u001b[43mshape\u001b[49m\n\u001b[0;32m      6\u001b[0m     th1 \u001b[38;5;241m=\u001b[39m cv2\u001b[38;5;241m.\u001b[39madaptiveThreshold(img, \u001b[38;5;241m255\u001b[39m, cv2\u001b[38;5;241m.\u001b[39mADAPTIVE_THRESH_GAUSSIAN_C, cv2\u001b[38;5;241m.\u001b[39mTHRESH_BINARY, \u001b[38;5;241m9\u001b[39m, \u001b[38;5;241m5\u001b[39m)\n\u001b[0;32m      8\u001b[0m     \u001b[38;5;28;01mreturn\u001b[39;00m \u001b[38;5;241m255\u001b[39m\u001b[38;5;241m-\u001b[39mcv2\u001b[38;5;241m.\u001b[39mresize(th1, (\u001b[38;5;28mint\u001b[39m(w1\u001b[38;5;241m*\u001b[39m\u001b[38;5;241m0.25\u001b[39m),\u001b[38;5;28mint\u001b[39m(h1\u001b[38;5;241m*\u001b[39m\u001b[38;5;241m0.25\u001b[39m)), interpolation\u001b[38;5;241m=\u001b[39mcv2\u001b[38;5;241m.\u001b[39mINTER_CUBIC)\n",
      "\u001b[1;31mAttributeError\u001b[0m: 'NoneType' object has no attribute 'shape'"
     ]
    }
   ],
   "source": [
    "img = cv2.imread(\"image/test1.jpg\", cv2.IMREAD_GRAYSCALE) # 없음\n",
    "\n",
    "img2 = preimg(img)\n",
    "\n",
    "plt.title(\"basic image\")\n",
    "plt.imshow(img2, cmap = \"gray\")\n",
    "plt.axis(\"off\")\n",
    "plt.show()"
   ]
  },
  {
   "cell_type": "code",
   "execution_count": 10,
   "id": "d12bbcc7",
   "metadata": {},
   "outputs": [],
   "source": [
    "# 이미지 증식\n",
    "\n",
    "\n",
    "#input_dir = \"./image_bottom/\" # 원하는 파일 폴더\n",
    "#output_dir = \"./target/bottom/\" # 결과 목표 경로 폴더\n",
    "\n",
    "input_dir = \"./image/\" # 상의\n",
    "output_dir = \"./target/top/\" \n",
    "\n",
    "if not os.path.exists(input_dir) :\n",
    "    os.mkdir(input_dir)\n",
    "\n",
    "if not os.path.exists(output_dir) :\n",
    "    os.mkdir(output_dir)    \n",
    "\n",
    "# 이미지 불러오기\n",
    "file_list = os.listdir(input_dir)\n",
    "\n",
    "# 증식 횟수\n",
    "epoch = 100\n",
    "\n",
    "for file in file_list :\n",
    "    \n",
    "    \n",
    "    img = cv2.imread(input_dir + file)\n",
    "    \n",
    "    file_name = file.split(\".\")[0]\n",
    "    \n",
    "    h, w, ch = img.shape\n",
    "    \n",
    "    img_gray = cv2.imread(input_dir + file, cv2.IMREAD_GRAYSCALE)\n",
    "    \n",
    "    img1 = preimg(img_gray)\n",
    "\n",
    "    \n",
    "    # 이미지 증식\n",
    "    for i in range(epoch) :\n",
    "        # 이미지 확대 / 축소 값 선택\n",
    "    #    param = random.uniform(0, 3)        \n",
    "        param = 1\n",
    "        # 확대\n",
    "     #   if param >= 1.0 :\n",
    "      #      img2 = cv2.resize(img, (int(w * param), int(h * param)), \n",
    "                     \n",
    "            #nterpolation = cv2.INTER_CUBIC)\n",
    "        # 축소    \n",
    "       # else :\n",
    "        img2 = cv2.resize(img1, (int(w * param), int(h * param)), \n",
    "        interpolation = cv2.INTER_AREA)\n",
    "            \n",
    "        # 이미지 좌우 이동 선택\n",
    "        param1 = random.randint(0, 1)\n",
    "        # 이동 값\n",
    "        param2 = random.randint(-5, 5)\n",
    "        h, w = img2.shape\n",
    "        \n",
    "        if param1 == 0 :   # 왼쪽 이동\n",
    "            M = np.float32([[1, 0, param2],\n",
    "                            [0, 1, 0]])\n",
    "            img3 = cv2.warpAffine(img2, M, (w, h), None, cv2.INTER_LINEAR)\n",
    "        else :  # 오른쪽 이동\n",
    "            M = np.float32([[1, 0, param2],\n",
    "                            [0, 1, 0]])\n",
    "            img3 = cv2.warpAffine(img2, M, (w, h), None, cv2.INTER_LINEAR)\n",
    "            \n",
    "        # 회전값\n",
    "        param3 = random.randint(-100, 100)\n",
    "        h, w = img3.shape\n",
    "        \n",
    "        M = cv2.getRotationMatrix2D((w / 2, h / 2), param3, 1)\n",
    "        img4 = cv2.warpAffine(img3, M, (w, h), None, cv2.INTER_LINEAR)\n",
    "        \n",
    "        img5 = cv2.resize(img4, dsize=(256,256), interpolation = cv2.INTER_AREA)\n",
    "        #print(img4)\n",
    "        #print(img5)\n",
    "        \n",
    "        # 증식 이미지 저장\n",
    "        cv2.imwrite(output_dir + \"{}_{}.jpg\".format(file_name, i), img5, \n",
    "        params=[cv2.IMWRITE_JPEG_QUALITY, 100])"
   ]
  },
  {
   "cell_type": "code",
   "execution_count": null,
   "id": "34e50ef3",
   "metadata": {},
   "outputs": [],
   "source": []
  },
  {
   "cell_type": "code",
   "execution_count": null,
   "id": "a029a907",
   "metadata": {},
   "outputs": [],
   "source": []
  },
  {
   "cell_type": "code",
   "execution_count": null,
   "id": "1787babd",
   "metadata": {},
   "outputs": [],
   "source": []
  },
  {
   "cell_type": "code",
   "execution_count": null,
   "id": "21bca19a",
   "metadata": {},
   "outputs": [],
   "source": []
  },
  {
   "cell_type": "code",
   "execution_count": null,
   "id": "d18d41e4",
   "metadata": {},
   "outputs": [],
   "source": []
  },
  {
   "cell_type": "code",
   "execution_count": null,
   "id": "d4d74f27",
   "metadata": {},
   "outputs": [],
   "source": []
  },
  {
   "cell_type": "code",
   "execution_count": null,
   "id": "46c9800a",
   "metadata": {},
   "outputs": [],
   "source": []
  }
 ],
 "metadata": {
  "kernelspec": {
   "display_name": "Python 3 (ipykernel)",
   "language": "python",
   "name": "python3"
  },
  "language_info": {
   "codemirror_mode": {
    "name": "ipython",
    "version": 3
   },
   "file_extension": ".py",
   "mimetype": "text/x-python",
   "name": "python",
   "nbconvert_exporter": "python",
   "pygments_lexer": "ipython3",
   "version": "3.10.9"
  }
 },
 "nbformat": 4,
 "nbformat_minor": 5
}
